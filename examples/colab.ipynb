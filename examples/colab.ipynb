{
  "nbformat": 4,
  "nbformat_minor": 0,
  "metadata": {
    "colab": {
      "name": "01_02_Demo_wave.ipynb",
      "provenance": [],
      "collapsed_sections": [],
      "authorship_tag": "ABX9TyOMGAPVaNV3pJWLuUBVL57s",
      "include_colab_link": true
    },
    "kernelspec": {
      "name": "python3",
      "display_name": "Python 3"
    },
    "language_info": {
      "name": "python"
    }
  },
  "cells": [
    {
      "cell_type": "markdown",
      "metadata": {
        "id": "view-in-github",
        "colab_type": "text"
      },
      "source": [
        "<a href=\"https://colab.research.google.com/github/daigokk/wave/blob/main/examples/colab.ipynb\" target=\"_parent\"><img src=\"https://colab.research.google.com/assets/colab-badge.svg\" alt=\"Open In Colab\"/></a>"
      ]
    },
    {
      "cell_type": "markdown",
      "metadata": {
        "id": "JTHTx-EWn6zh"
      },
      "source": [
        "# デモ：音\n",
        "プログラムで音を作ります。\\\n",
        "左右のスピーカーから異なる音を出すことで、ステレオ感を演出してみましょう。\\\n",
        "スピーカーがモノラル(1ch)の場合、ステレオ(2ch)は強制的にモノラル再生となります。イヤホンやヘッドホンを使うと、ステレオ感を感じやすくなります。\n",
        "\n"
      ]
    },
    {
      "cell_type": "code",
      "metadata": {
        "id": "cSE0dnuq-sVH"
      },
      "source": [
        "# Python, セルマジックcppの定義\n",
        "from IPython.display import Audio\n",
        "from IPython.core.magic import register_cell_magic\n",
        "@register_cell_magic\n",
        "def cpp(line, cell):\n",
        "    program = 'a.out'\n",
        "    option = ''\n",
        "    if line == '':\n",
        "        line = '_temp.cpp'\n",
        "    with open(line, 'w') as f:\n",
        "        f.write(cell)\n",
        "    ipy = get_ipython()\n",
        "    ret = ipy.getoutput(f'g++ {line} -o {program} {option}')\n",
        "    if len(ret) != 0:\n",
        "        for error in ret:\n",
        "            print(error)\n",
        "    else:\n",
        "        ret = ipy.getoutput(f'./{program}')\n",
        "        for error in ret:\n",
        "            print(error)\n",
        "        if len(ret) == 0:\n",
        "            return Audio(\"test.wav\")\n",
        "    return"
      ],
      "execution_count": null,
      "outputs": []
    },
    {
      "cell_type": "code",
      "metadata": {
        "id": "krMMSXg5PtJT"
      },
      "source": [
        "# Waveファイルを作るためのヘッダファイルをダウンロードします。\n",
        "!wget https://raw.githubusercontent.com/daigokk/wave/main/wave.hpp"
      ],
      "execution_count": null,
      "outputs": []
    },
    {
      "cell_type": "code",
      "metadata": {
        "id": "nasWVvs3-_kk"
      },
      "source": [
        "%%cpp\n",
        "#include \"wave.hpp\"\n",
        "#include <math.h>\n",
        "#include <vector>\n",
        "#define PI acos(-1)\n",
        "\n",
        "int main(void)\n",
        "{\n",
        "    wave pcm(10);\n",
        "    for(int i = 0; i < pcm.size; i++)\n",
        "    {\n",
        "        double amp_right = 1;\n",
        "        double amp_left = 0;\n",
        "        double freq;\n",
        "        if(i < pcm.size * 1 / 10) freq = 261.626;\n",
        "        else if(i < pcm.size * 2 / 10) freq = 293.665;\n",
        "        else if(i < pcm.size * 3 / 10) freq = 329.628;\n",
        "        pcm.s[0][i] = amp_right * sin(2 * PI * freq / pcm.fs * i);\n",
        "        pcm.s[1][i] = amp_left *  sin(2 * PI * freq / pcm.fs * i);\n",
        "    }\n",
        "    pcm.write(\"test.wav\");\n",
        "    return 0;\n",
        "}"
      ],
      "execution_count": null,
      "outputs": []
    },
    {
      "cell_type": "code",
      "metadata": {
        "id": "luWJAme9CN7e"
      },
      "source": [
        "%%cpp\n",
        "#include \"wave.hpp\"\n",
        "#include <math.h>\n",
        "#define PI acos(-1)\n",
        "\n",
        "int main(void)\n",
        "{\n",
        "    wave pcm(10);\n",
        "    for(int i = 0; i < pcm.size; i++)\n",
        "    {\n",
        "        double amp_right = sin(2 * PI * 0.25 / pcm.fs * i + PI / 2);\n",
        "        double amp_left = sin(2 * PI * 0.25 / pcm.fs * i);\n",
        "        double freq;\n",
        "        if(i < pcm.size * 1 / 10) freq = 261.626;\n",
        "        else if(i < pcm.size * 2 / 10) freq = 293.665;\n",
        "        else if(i < pcm.size * 3 / 10) freq = 329.628;\n",
        "        pcm.s[0][i] = amp_right * sin(2 * PI * freq / pcm.fs * i);\n",
        "        pcm.s[1][i] = amp_left *  sin(2 * PI * freq / pcm.fs * i);\n",
        "    }\n",
        "    pcm.write(\"test.wav\");\n",
        "    return 0;\n",
        "}"
      ],
      "execution_count": null,
      "outputs": []
    },
    {
      "cell_type": "code",
      "metadata": {
        "id": "_SwRXisPnIZM"
      },
      "source": [
        "%%cpp\n",
        "#include \"wave.hpp\"\n",
        "#include <math.h>\n",
        "#define PI acos(-1)\n",
        "\n",
        "int main(void)\n",
        "{\n",
        "    wave pcm(10);\n",
        "    for(int i = 0; i < pcm.size; i++)\n",
        "    {\n",
        "        double amp_right = exp(-pow(i - pcm.fs * 5, 2) / (2 * pow(pcm.size/10, 2)));\n",
        "        double amp_left = exp(-pow(i - pcm.fs * 3, 2) / (2 * pow(pcm.size/10, 2)));\n",
        "        double freq = 329.628;\n",
        "        pcm.s[0][i] = amp_right * sin(2 * PI * freq / pcm.fs * i);\n",
        "        pcm.s[1][i] = amp_left *  sin(2 * PI * freq / pcm.fs * i);\n",
        "    }\n",
        "    pcm.write(\"test.wav\");\n",
        "    return 0;\n",
        "}"
      ],
      "execution_count": null,
      "outputs": []
    },
    {
      "cell_type": "code",
      "metadata": {
        "id": "ZWNgR39HkiBw"
      },
      "source": [
        "!wget https://raw.githubusercontent.com/lava/matplotlib-cpp/master/matplotlibcpp.h\n",
        "# Python, セルマジックcppの定義\n",
        "from IPython.display import display, Image\n",
        "from IPython.core.magic import register_cell_magic\n",
        "@register_cell_magic\n",
        "def cpp(line, cell):\n",
        "    program = 'a.out'\n",
        "    option = '-I/usr/include/python3.7 -lpython3.7m -I/usr/local/lib/python3.7/dist-packages/numpy/core/include'\n",
        "    if line == '':\n",
        "        line = '_temp.cpp'\n",
        "    with open(line, 'w') as f:\n",
        "        f.write(cell)\n",
        "    ipy = get_ipython()\n",
        "    ret = ipy.getoutput(f'g++ {line} -o {program} {option}')\n",
        "    if len(ret) != 0:\n",
        "        for error in ret:\n",
        "            print(error)\n",
        "    else:\n",
        "        ret = ipy.getoutput(f'./{program}')\n",
        "        for error in ret:\n",
        "            print(error)\n",
        "        if len(ret) != 0 and ret[0] == '<Figure size 640x480 with 1 Axes>':\n",
        "            display(Image('chart.png'))\n",
        "            return Audio(\"test.wav\")\n",
        "    return"
      ],
      "execution_count": null,
      "outputs": []
    },
    {
      "cell_type": "code",
      "metadata": {
        "id": "KCxsPHlUk5JI"
      },
      "source": [
        "%%cpp\n",
        "#include \"wave.hpp\"\n",
        "#include <math.h>\n",
        "#define PI acos(-1)\n",
        "#include <vector>\n",
        "#include \"matplotlibcpp.h\"\n",
        "namespace plt = matplotlibcpp;\n",
        "\n",
        "void chart(wave& pcm);\n",
        "\n",
        "int main(void)\n",
        "{\n",
        "    wave pcm(10);\n",
        "    for(int i = 0; i < pcm.size; i++)\n",
        "    {\n",
        "        double amp_right = exp(-pow(i - pcm.fs * 5, 2) / (2 * pow(pcm.size/10, 2)));\n",
        "        double amp_left = exp(-pow(i - pcm.fs * 3, 2) / (2 * pow(pcm.size/10, 2)));\n",
        "        double freq = 329.628;\n",
        "        pcm.s[0][i] = amp_right * sin(2 * PI * freq * i / pcm.fs);\n",
        "        pcm.s[1][i] = amp_left *  sin(2 * PI * freq * i / pcm.fs);\n",
        "    }\n",
        "    pcm.write(\"test.wav\");\n",
        "    chart(pcm);\n",
        "    return 0;\n",
        "}\n",
        "\n",
        "void chart(wave& pcm)\n",
        "{\n",
        "    std::vector<double> t(pcm.size), left(pcm.size), right(pcm.size);\n",
        "    for(int i = 0; i < pcm.size; i++)\n",
        "    {\n",
        "        t[i] = (double)i / pcm.fs;\n",
        "        right[i] = pcm.s[0][i];\n",
        "        left[i] = pcm.s[1][i];\n",
        "    }\n",
        "    plt::named_plot(\"Right\", t, right);\n",
        "    plt::named_plot(\"Left\", t, left);\n",
        "    plt::legend();\n",
        "    plt::xlabel(\"Time (s)\");\n",
        "    plt::save(\"chart.png\");\n",
        "    plt::show();\n",
        "}"
      ],
      "execution_count": null,
      "outputs": []
    },
    {
      "cell_type": "code",
      "metadata": {
        "id": "5FOWqKfDnBOD"
      },
      "source": [
        ""
      ],
      "execution_count": null,
      "outputs": []
    }
  ]
}