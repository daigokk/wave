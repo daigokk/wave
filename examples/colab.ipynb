{
  "nbformat": 4,
  "nbformat_minor": 0,
  "metadata": {
    "colab": {
      "name": "01_02_Demo_wave.ipynb",
      "provenance": [],
      "collapsed_sections": [],
      "authorship_tag": "ABX9TyN/YJ68InIcB6RjpJL3Zsah",
      "include_colab_link": true
    },
    "kernelspec": {
      "name": "python3",
      "display_name": "Python 3"
    },
    "language_info": {
      "name": "python"
    }
  },
  "cells": [
    {
      "cell_type": "markdown",
      "metadata": {
        "id": "view-in-github",
        "colab_type": "text"
      },
      "source": [
        "<a href=\"https://colab.research.google.com/github/daigokk/wave/blob/main/examples/colab.ipynb\" target=\"_parent\"><img src=\"https://colab.research.google.com/assets/colab-badge.svg\" alt=\"Open In Colab\"/></a>"
      ]
    },
    {
      "cell_type": "markdown",
      "metadata": {
        "id": "JTHTx-EWn6zh"
      },
      "source": [
        "# プログラミング体験：音\n",
        "プログラムで音を作ります。<br>\n",
        "- 左右のスピーカーから異なる音を出すことで、ステレオ感を演出してみましょう。スピーカーがモノラル(1ch)の場合、ステレオ(2ch)は強制的にモノラル再生となります。イヤホンやヘッドホンを使うと、ステレオ感を感じやすくなります。<br>\n",
        "- 波形を変えることで音色が変わります。波形と音色の関係を体感してみましょう。<br>\n",
        "\n"
      ]
    },
    {
      "cell_type": "markdown",
      "metadata": {
        "id": "diYtiwrpbvT7"
      },
      "source": [
        "## 準備1：セルマジックの定義\n",
        "ColabでC言語を簡単に使う設定を行います。下のセルを実行してください。<br>\n",
        "「Shift+Enter」またはセル左側の右を向いた三角形のアンコンを押すと実行できます。"
      ]
    },
    {
      "cell_type": "code",
      "metadata": {
        "id": "cSE0dnuq-sVH"
      },
      "source": [
        "# Python, セルマジックcppの定義\n",
        "from IPython.display import Audio\n",
        "from IPython.core.magic import register_cell_magic\n",
        "@register_cell_magic\n",
        "def cpp(line, cell):\n",
        "    program = 'a.out'\n",
        "    option = ''\n",
        "    if line == '':\n",
        "        line = '_temp.cpp'\n",
        "    with open(line, 'w') as f:\n",
        "        f.write(cell)\n",
        "    ipy = get_ipython()\n",
        "    ret = ipy.getoutput(f'g++ {line} -o {program} {option}')\n",
        "    if len(ret) != 0:\n",
        "        for error in ret:\n",
        "            print(error)\n",
        "    else:\n",
        "        ret = ipy.getoutput(f'./{program}')\n",
        "        for error in ret:\n",
        "            print(error)\n",
        "        if len(ret) == 0:\n",
        "            return Audio(\"test.wav\")\n",
        "    return"
      ],
      "execution_count": null,
      "outputs": []
    },
    {
      "cell_type": "markdown",
      "metadata": {
        "id": "vq-S5-Q0cYmx"
      },
      "source": [
        "## 準備2：waveヘッダファイルをダウンロード\n",
        "音を保存するプログラムをダウンロードします。"
      ]
    },
    {
      "cell_type": "code",
      "metadata": {
        "id": "krMMSXg5PtJT"
      },
      "source": [
        "# Waveファイルを作るためのヘッダファイルをダウンロードします。\n",
        "!wget https://raw.githubusercontent.com/daigokk/wave/main/wave.hpp"
      ],
      "execution_count": null,
      "outputs": []
    },
    {
      "cell_type": "markdown",
      "metadata": {
        "id": "mWdXMFu0czxH"
      },
      "source": [
        "## 1 waveファイルの作製\n",
        "「ドレミーーーーーーー」の音を作ります。"
      ]
    },
    {
      "cell_type": "code",
      "metadata": {
        "id": "nasWVvs3-_kk"
      },
      "source": [
        "%%cpp\n",
        "#include \"wave.hpp\"\n",
        "#include <math.h>\n",
        "#define PI acos(-1)\n",
        "\n",
        "int main(void)\n",
        "{\n",
        "    wave pcm(10);\n",
        "    for(int i = 0; i < pcm.size; i++)\n",
        "    {\n",
        "        double amp_right = 1;\n",
        "        double amp_left = 1;\n",
        "        double freq;\n",
        "        if(i < pcm.fs * 1) freq = scale::C4;\n",
        "        else if(i < pcm.fs * 2) freq = scale::D4;\n",
        "        else if(i < pcm.fs * 3) freq = scale::E4;\n",
        "        pcm.s[0][i] = amp_right * sin(2 * PI * freq * i / pcm.fs);\n",
        "        pcm.s[1][i] = amp_left *  sin(2 * PI * freq * i / pcm.fs);\n",
        "    }\n",
        "    pcm.write(\"test.wav\");\n",
        "    return 0;\n",
        "}"
      ],
      "execution_count": null,
      "outputs": []
    },
    {
      "cell_type": "markdown",
      "metadata": {
        "id": "XRTXKNmcDHxD"
      },
      "source": [
        "## 2 左右のチャンネルの音の大きさを変える\n",
        "左右のチャンネルに位相の異なるAmplitude Modulation (AM変調)をかけて、ステレオ感を演出してみます。"
      ]
    },
    {
      "cell_type": "code",
      "metadata": {
        "id": "luWJAme9CN7e"
      },
      "source": [
        "%%cpp\n",
        "#include \"wave.hpp\"\n",
        "#include <math.h>\n",
        "#define PI acos(-1)\n",
        "\n",
        "int main(void)\n",
        "{\n",
        "    wave pcm(10);\n",
        "    for(int i = 0; i < pcm.size; i++)\n",
        "    {\n",
        "        double amp_right = sin(2 * PI * 0.25 * i / pcm.fs + PI / 2);\n",
        "        double amp_left = sin(2 * PI * 0.25 * i / pcm.fs);\n",
        "        double freq;\n",
        "        if(i < pcm.fs * 1) freq = scale::C4;\n",
        "        else if(i < pcm.fs * 2) freq = scale::D4;\n",
        "        else if(i < pcm.fs * 3) freq = scale::E4;\n",
        "        pcm.s[0][i] = amp_right * sin(2 * PI * freq * i / pcm.fs);\n",
        "        pcm.s[1][i] = amp_left *  sin(2 * PI * freq * i / pcm.fs);\n",
        "    }\n",
        "    pcm.write(\"test.wav\");\n",
        "    return 0;\n",
        "}"
      ],
      "execution_count": null,
      "outputs": []
    },
    {
      "cell_type": "markdown",
      "metadata": {
        "id": "oXusteLHDkw_"
      },
      "source": [
        "## 3 音の移動\n",
        "左右のチャンネルに位相の異なるガウシアンを掛けて、音源が右から左へ移動するのを模擬してみます。"
      ]
    },
    {
      "cell_type": "code",
      "metadata": {
        "id": "_SwRXisPnIZM"
      },
      "source": [
        "%%cpp\n",
        "#include \"wave.hpp\"\n",
        "#include <math.h>\n",
        "#define PI acos(-1)\n",
        "\n",
        "int main(void)\n",
        "{\n",
        "    wave pcm(10);\n",
        "    for(int i = 0; i < pcm.size; i++)\n",
        "    {\n",
        "        double amp_right = exp(-pow(i - pcm.fs * 5, 2) / (2 * pow(pcm.size/10, 2)));\n",
        "        double amp_left = exp(-pow(i - pcm.fs * 3, 2) / (2 * pow(pcm.size/10, 2)));\n",
        "        double freq = scale::E4;\n",
        "        pcm.s[0][i] = amp_right * sin(2 * PI * freq * i / pcm.fs);\n",
        "        pcm.s[1][i] = amp_left *  sin(2 * PI * freq * i / pcm.fs);\n",
        "    }\n",
        "    pcm.write(\"test.wav\");\n",
        "    return 0;\n",
        "}"
      ],
      "execution_count": null,
      "outputs": []
    },
    {
      "cell_type": "markdown",
      "metadata": {
        "id": "UG2PNr1558qB"
      },
      "source": [
        "## 4 Chart\n",
        "波形をChartにしてみます。"
      ]
    },
    {
      "cell_type": "code",
      "metadata": {
        "id": "ZWNgR39HkiBw"
      },
      "source": [
        "!wget https://raw.githubusercontent.com/lava/matplotlib-cpp/master/matplotlibcpp.h\n",
        "# Python, セルマジックcppの定義\n",
        "from IPython.display import display, Image\n",
        "from IPython.core.magic import register_cell_magic\n",
        "@register_cell_magic\n",
        "def cpp(line, cell):\n",
        "    program = 'a.out'\n",
        "    option = '-I/usr/include/python3.7 -lpython3.7m -I/usr/local/lib/python3.7/dist-packages/numpy/core/include'\n",
        "    if line == '':\n",
        "        line = '_temp.cpp'\n",
        "    with open(line, 'w') as f:\n",
        "        f.write(cell)\n",
        "    ipy = get_ipython()\n",
        "    ret = ipy.getoutput(f'g++ {line} -o {program} {option}')\n",
        "    if len(ret) != 0:\n",
        "        for error in ret:\n",
        "            print(error)\n",
        "    else:\n",
        "        ret = ipy.getoutput(f'./{program}')\n",
        "        for error in ret:\n",
        "            print(error)\n",
        "        if len(ret) != 0 and ret[0] == '<Figure size 640x480 with 1 Axes>':\n",
        "            display(Image('chart.png'))\n",
        "            return Audio(\"test.wav\")\n",
        "    return"
      ],
      "execution_count": null,
      "outputs": []
    },
    {
      "cell_type": "code",
      "metadata": {
        "id": "KCxsPHlUk5JI"
      },
      "source": [
        "%%cpp\n",
        "#include \"wave.hpp\"\n",
        "#include <math.h>\n",
        "#define PI acos(-1)\n",
        "#include <vector>\n",
        "#include \"matplotlibcpp.h\"\n",
        "namespace plt = matplotlibcpp;\n",
        "\n",
        "void chart(wave& pcm);\n",
        "\n",
        "int main(void)\n",
        "{\n",
        "    wave pcm(10);\n",
        "    for(int i = 0; i < pcm.size; i++)\n",
        "    {\n",
        "        double amp_right = exp(-pow(i - pcm.fs * 5, 2) / (2 * pow(pcm.size/10, 2)));\n",
        "        double amp_left = exp(-pow(i - pcm.fs * 3, 2) / (2 * pow(pcm.size/10, 2)));\n",
        "        double freq = scale::E4;\n",
        "        pcm.s[0][i] = amp_right * sin(2 * PI * freq * i / pcm.fs);\n",
        "        pcm.s[1][i] = amp_left *  sin(2 * PI * freq * i / pcm.fs);\n",
        "    }\n",
        "    pcm.write(\"test.wav\");\n",
        "    chart(pcm);\n",
        "    return 0;\n",
        "}\n",
        "\n",
        "void chart(wave& pcm)\n",
        "{\n",
        "    std::vector<double> t(pcm.size), left(pcm.size), right(pcm.size);\n",
        "    for(int i = 0; i < pcm.size; i++)\n",
        "    {\n",
        "        t[i] = (double)i / pcm.fs;\n",
        "        right[i] = pcm.s[0][i];\n",
        "        left[i] = pcm.s[1][i];\n",
        "    }\n",
        "    plt::named_plot(\"Right\", t, right);\n",
        "    plt::named_plot(\"Left\", t, left);\n",
        "    plt::legend();\n",
        "    plt::xlabel(\"Time (s)\");\n",
        "    plt::save(\"chart.png\");\n",
        "    plt::show();\n",
        "}"
      ],
      "execution_count": null,
      "outputs": []
    },
    {
      "cell_type": "markdown",
      "metadata": {
        "id": "qQCgAocY6R0a"
      },
      "source": [
        "## 5 波形と音色\n",
        "波形を変えた時の音色を確認しましょう。次のセルの14行目を以下のようにすると波形が変わります。<br>\n",
        "正弦波：`double k = 1;`<br>\n",
        "のこぎり波：`double k = n`<br>\n",
        "$\\sum_{n=1}^{100}{\\frac{\\sin(2\\pi{fnt})}{n}}$<br>\n",
        "矩形波：`double k = 2 * n - 1;`<br>\n",
        "$\\sum_{n=1}^{100}{\\frac{\\sin(2\\pi{f(2n-1)}t)}{2n-1}}$<br>"
      ]
    },
    {
      "cell_type": "code",
      "metadata": {
        "id": "5FOWqKfDnBOD"
      },
      "source": [
        "%%cpp\n",
        "#include \"wave.hpp\"\n",
        "#include <math.h>\n",
        "#include <vector>\n",
        "#define PI acos(-1)\n",
        "#include \"matplotlibcpp.h\"\n",
        "namespace plt = matplotlibcpp;\n",
        "void chart(wave& pcm);\n",
        "int main(void)\n",
        "{\n",
        "    wave pcm(5);\n",
        "    for(int n = 1; n <= 100; n++)\n",
        "    {\n",
        "        double k = 1;\n",
        "        for(int i = 0; i < pcm.size; i++)\n",
        "        {\n",
        "            double amp_right = 1.0 / k;\n",
        "            double amp_left = 1.0 / k;\n",
        "            double s;\n",
        "            if(i < pcm.fs * 0.5) s = sin(2 * PI * scale::C4 * k / pcm.fs * i) / k;\n",
        "            else if(i < pcm.fs * 1) s = sin(2 * PI * scale::E4 * k / pcm.fs * i) / k;\n",
        "            else if(i < pcm.fs * 1.5) s = sin(2 * PI * scale::G4 * k / pcm.fs * i) / k;\n",
        "            else s = (sin(2 * PI * scale::C4 * k / pcm.fs * i)\n",
        "                + sin(2 * PI * scale::E4 * k / pcm.fs * i)\n",
        "                + sin(2 * PI * scale::G4 * k / pcm.fs * i)) / k;\n",
        "            pcm.s[0][i] += s;\n",
        "            pcm.s[1][i] += s;\n",
        "        }\n",
        "    }\n",
        "    \n",
        "    double max = 0;\n",
        "    for(int i = 0; i < pcm.size; i++)\n",
        "    {\n",
        "        for(int ch = 0; ch < pcm.chs; ch++)\n",
        "        {\n",
        "            if(max < abs(pcm.s[ch][i])) max = pcm.s[ch][i];\n",
        "        }\n",
        "    }\n",
        "    for(int i = 0; i < pcm.size; i++)\n",
        "    {\n",
        "        for(int ch = 0; ch < pcm.chs; ch++)\n",
        "        {\n",
        "            pcm.s[ch][i] /= max;\n",
        "        }\n",
        "    }\n",
        "    pcm.write(\"test.wav\");\n",
        "    chart(pcm);\n",
        "    return 0;\n",
        "}\n",
        "\n",
        "void chart(wave& pcm)\n",
        "{\n",
        "    std::vector<double> t(pcm.size), left(pcm.size), right(pcm.size);\n",
        "    for(int i = 0; i < pcm.size; i++)\n",
        "    {\n",
        "        t[i] = (double)i / pcm.fs;\n",
        "        right[i] = pcm.s[0][i];\n",
        "        left[i] = pcm.s[1][i];\n",
        "    }\n",
        "    plt::xlim(0.0,0.01);\n",
        "    plt::named_plot(\"Right\", t, right);\n",
        "    plt::named_plot(\"Left\", t, left);\n",
        "    plt::legend();\n",
        "    plt::xlabel(\"Time (s)\");\n",
        "    plt::save(\"chart.png\");\n",
        "    plt::show();\n",
        "}"
      ],
      "execution_count": null,
      "outputs": []
    },
    {
      "cell_type": "code",
      "metadata": {
        "id": "N3-pLVfmjaXB"
      },
      "source": [
        ""
      ],
      "execution_count": null,
      "outputs": []
    }
  ]
}